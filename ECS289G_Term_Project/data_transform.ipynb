{
 "cells": [
  {
   "cell_type": "code",
   "execution_count": 1,
   "metadata": {},
   "outputs": [
    {
     "name": "stdout",
     "output_type": "stream",
     "text": [
      "Dataset Shape: (1602362, 35)\n",
      "<class 'pandas.core.frame.DataFrame'>\n",
      "RangeIndex: 1602362 entries, 0 to 1602361\n",
      "Data columns (total 35 columns):\n",
      " #   Column                             Non-Null Count    Dtype  \n",
      "---  ------                             --------------    -----  \n",
      " 0   tract_to_msa_income_percentage     1602362 non-null  float64\n",
      " 1   ffiec_msa_md_median_family_income  1602362 non-null  int64  \n",
      " 2   tract_minority_population_percent  1602362 non-null  float64\n",
      " 3   interest_rate                      1602362 non-null  float64\n",
      " 4   action_taken                       1602362 non-null  int64  \n",
      " 5   race_0                             1602362 non-null  bool   \n",
      " 6   race_1                             1602362 non-null  bool   \n",
      " 7   race_2                             1602362 non-null  bool   \n",
      " 8   race_3                             1602362 non-null  bool   \n",
      " 9   race_4                             1602362 non-null  bool   \n",
      " 10  race_5                             1602362 non-null  bool   \n",
      " 11  race_6                             1602362 non-null  bool   \n",
      " 12  race_7                             1602362 non-null  bool   \n",
      " 13  race_8                             1602362 non-null  bool   \n",
      " 14  gender_0                           1602362 non-null  bool   \n",
      " 15  gender_1                           1602362 non-null  bool   \n",
      " 16  gender_2                           1602362 non-null  bool   \n",
      " 17  gender_3                           1602362 non-null  bool   \n",
      " 18  ethnicity_0                        1602362 non-null  bool   \n",
      " 19  ethnicity_1                        1602362 non-null  bool   \n",
      " 20  ethnicity_2                        1602362 non-null  bool   \n",
      " 21  ethnicity_3                        1602362 non-null  bool   \n",
      " 22  ethnicity_4                        1602362 non-null  bool   \n",
      " 23  loan_type_2                        1602362 non-null  bool   \n",
      " 24  loan_type_3                        1602362 non-null  bool   \n",
      " 25  loan_type_4                        1602362 non-null  bool   \n",
      " 26  loan_purpose_2                     1602362 non-null  bool   \n",
      " 27  loan_purpose_4                     1602362 non-null  bool   \n",
      " 28  loan_purpose_5                     1602362 non-null  bool   \n",
      " 29  loan_purpose_31                    1602362 non-null  bool   \n",
      " 30  loan_purpose_32                    1602362 non-null  bool   \n",
      " 31  lien_status_2                      1602362 non-null  bool   \n",
      " 32  construction_method_2              1602362 non-null  bool   \n",
      " 33  occupancy_type_2                   1602362 non-null  bool   \n",
      " 34  occupancy_type_3                   1602362 non-null  bool   \n",
      "dtypes: bool(30), float64(3), int64(2)\n",
      "memory usage: 107.0 MB\n"
     ]
    }
   ],
   "source": [
    "# ECS289G_Term_Project/data_transform.ipynb\n",
    "\n",
    "# Import required libraries\n",
    "import pandas as pd\n",
    "import numpy as np\n",
    "from sklearn.model_selection import train_test_split\n",
    "from sklearn.preprocessing import MinMaxScaler\n",
    "\n",
    "# Step 1: Load the cleaned dataset\n",
    "file_path = r\"/Users/harshil/Developer/GitHub_Repos/ECS_289G/data/processsed/cleaned_dataset_yrs-23.csv\"  # Update with the actual file path\n",
    "cleaned_dataset = pd.read_csv(file_path, low_memory=False)\n",
    "\n",
    "# Display dataset information\n",
    "print(f\"Dataset Shape: {cleaned_dataset.shape}\")\n",
    "cleaned_dataset.info()"
   ]
  },
  {
   "cell_type": "code",
   "execution_count": 2,
   "metadata": {},
   "outputs": [
    {
     "name": "stdout",
     "output_type": "stream",
     "text": [
      "SES Groups Assigned\n",
      "SES_group\n",
      "High      623962\n",
      "Middle    612631\n",
      "Low       365769\n",
      "Name: count, dtype: int64\n"
     ]
    }
   ],
   "source": [
    "# Step 2: Generate SES Groups\n",
    "def assign_ses_group(row):\n",
    "    if row['tract_to_msa_income_percentage'] < 80:\n",
    "        return 'Low'\n",
    "    elif 80 <= row['tract_to_msa_income_percentage'] <= 120:\n",
    "        return 'Middle'\n",
    "    else:\n",
    "        return 'High'\n",
    "\n",
    "cleaned_dataset['SES_group'] = cleaned_dataset.apply(assign_ses_group, axis=1)\n",
    "print(\"SES Groups Assigned\")\n",
    "print(cleaned_dataset['SES_group'].value_counts())"
   ]
  },
  {
   "cell_type": "code",
   "execution_count": 3,
   "metadata": {},
   "outputs": [
    {
     "name": "stdout",
     "output_type": "stream",
     "text": [
      "Numeric Features Scaled\n",
      "       tract_to_msa_income_percentage  ffiec_msa_md_median_family_income  \\\n",
      "count                    1.602362e+06                       1.602362e+06   \n",
      "mean                     3.466439e-01                       6.176792e-01   \n",
      "std                      1.402902e-01                       1.432159e-01   \n",
      "min                      0.000000e+00                       0.000000e+00   \n",
      "25%                      2.522043e-01                       5.296656e-01   \n",
      "50%                      3.302106e-01                       6.143474e-01   \n",
      "75%                      4.214426e-01                       6.893204e-01   \n",
      "max                      1.000000e+00                       1.000000e+00   \n",
      "\n",
      "       tract_minority_population_percent  interest_rate  \n",
      "count                       1.602362e+06   1.602362e+06  \n",
      "mean                        4.910712e-01   3.775641e-01  \n",
      "std                         2.611486e-01   8.960323e-02  \n",
      "min                         0.000000e+00   0.000000e+00  \n",
      "25%                         2.669000e-01   3.605556e-01  \n",
      "50%                         4.563000e-01   3.750000e-01  \n",
      "75%                         7.113000e-01   3.888889e-01  \n",
      "max                         1.000000e+00   1.000000e+00  \n"
     ]
    }
   ],
   "source": [
    "# Step 3: Normalize/Scale Numeric Features\n",
    "# Define numeric columns to scale\n",
    "numeric_columns = [\n",
    "    'tract_to_msa_income_percentage', 'ffiec_msa_md_median_family_income',\n",
    "    'tract_minority_population_percent', 'interest_rate'\n",
    "]\n",
    "\n",
    "scaler = MinMaxScaler()\n",
    "cleaned_dataset[numeric_columns] = scaler.fit_transform(cleaned_dataset[numeric_columns])\n",
    "\n",
    "print(\"Numeric Features Scaled\")\n",
    "print(cleaned_dataset[numeric_columns].describe())"
   ]
  },
  {
   "cell_type": "code",
   "execution_count": 4,
   "metadata": {},
   "outputs": [],
   "source": [
    "transformed_data = cleaned_dataset"
   ]
  },
  {
   "cell_type": "code",
   "execution_count": 5,
   "metadata": {},
   "outputs": [
    {
     "name": "stdout",
     "output_type": "stream",
     "text": [
      "<class 'pandas.core.frame.DataFrame'>\n",
      "RangeIndex: 1602362 entries, 0 to 1602361\n",
      "Data columns (total 36 columns):\n",
      " #   Column                             Non-Null Count    Dtype  \n",
      "---  ------                             --------------    -----  \n",
      " 0   tract_to_msa_income_percentage     1602362 non-null  float64\n",
      " 1   ffiec_msa_md_median_family_income  1602362 non-null  float64\n",
      " 2   tract_minority_population_percent  1602362 non-null  float64\n",
      " 3   interest_rate                      1602362 non-null  float64\n",
      " 4   action_taken                       1602362 non-null  int64  \n",
      " 5   race_0                             1602362 non-null  bool   \n",
      " 6   race_1                             1602362 non-null  bool   \n",
      " 7   race_2                             1602362 non-null  bool   \n",
      " 8   race_3                             1602362 non-null  bool   \n",
      " 9   race_4                             1602362 non-null  bool   \n",
      " 10  race_5                             1602362 non-null  bool   \n",
      " 11  race_6                             1602362 non-null  bool   \n",
      " 12  race_7                             1602362 non-null  bool   \n",
      " 13  race_8                             1602362 non-null  bool   \n",
      " 14  gender_0                           1602362 non-null  bool   \n",
      " 15  gender_1                           1602362 non-null  bool   \n",
      " 16  gender_2                           1602362 non-null  bool   \n",
      " 17  gender_3                           1602362 non-null  bool   \n",
      " 18  ethnicity_0                        1602362 non-null  bool   \n",
      " 19  ethnicity_1                        1602362 non-null  bool   \n",
      " 20  ethnicity_2                        1602362 non-null  bool   \n",
      " 21  ethnicity_3                        1602362 non-null  bool   \n",
      " 22  ethnicity_4                        1602362 non-null  bool   \n",
      " 23  loan_type_2                        1602362 non-null  bool   \n",
      " 24  loan_type_3                        1602362 non-null  bool   \n",
      " 25  loan_type_4                        1602362 non-null  bool   \n",
      " 26  loan_purpose_2                     1602362 non-null  bool   \n",
      " 27  loan_purpose_4                     1602362 non-null  bool   \n",
      " 28  loan_purpose_5                     1602362 non-null  bool   \n",
      " 29  loan_purpose_31                    1602362 non-null  bool   \n",
      " 30  loan_purpose_32                    1602362 non-null  bool   \n",
      " 31  lien_status_2                      1602362 non-null  bool   \n",
      " 32  construction_method_2              1602362 non-null  bool   \n",
      " 33  occupancy_type_2                   1602362 non-null  bool   \n",
      " 34  occupancy_type_3                   1602362 non-null  bool   \n",
      " 35  SES_group                          1602362 non-null  object \n",
      "dtypes: bool(30), float64(4), int64(1), object(1)\n",
      "memory usage: 119.2+ MB\n"
     ]
    }
   ],
   "source": [
    "transformed_data.info()"
   ]
  },
  {
   "cell_type": "code",
   "execution_count": 6,
   "metadata": {},
   "outputs": [
    {
     "name": "stdout",
     "output_type": "stream",
     "text": [
      "tract_to_msa_income_percentage       0\n",
      "ffiec_msa_md_median_family_income    0\n",
      "tract_minority_population_percent    0\n",
      "interest_rate                        0\n",
      "action_taken                         0\n",
      "race_0                               0\n",
      "race_1                               0\n",
      "race_2                               0\n",
      "race_3                               0\n",
      "race_4                               0\n",
      "race_5                               0\n",
      "race_6                               0\n",
      "race_7                               0\n",
      "race_8                               0\n",
      "gender_0                             0\n",
      "gender_1                             0\n",
      "gender_2                             0\n",
      "gender_3                             0\n",
      "ethnicity_0                          0\n",
      "ethnicity_1                          0\n",
      "ethnicity_2                          0\n",
      "ethnicity_3                          0\n",
      "ethnicity_4                          0\n",
      "loan_type_2                          0\n",
      "loan_type_3                          0\n",
      "loan_type_4                          0\n",
      "loan_purpose_2                       0\n",
      "loan_purpose_4                       0\n",
      "loan_purpose_5                       0\n",
      "loan_purpose_31                      0\n",
      "loan_purpose_32                      0\n",
      "lien_status_2                        0\n",
      "construction_method_2                0\n",
      "occupancy_type_2                     0\n",
      "occupancy_type_3                     0\n",
      "SES_group                            0\n",
      "dtype: int64\n"
     ]
    }
   ],
   "source": [
    "print(transformed_data.isnull().sum())"
   ]
  },
  {
   "cell_type": "code",
   "execution_count": 7,
   "metadata": {},
   "outputs": [],
   "source": [
    "transformed_data.to_csv(r\"/Users/harshil/Developer/GitHub_Repos/ECS_289G/data/processsed/transformed/transformed_dataset-yrs-23.csv\", index=False)"
   ]
  }
 ],
 "metadata": {
  "kernelspec": {
   "display_name": "nlp_env",
   "language": "python",
   "name": "python3"
  },
  "language_info": {
   "codemirror_mode": {
    "name": "ipython",
    "version": 3
   },
   "file_extension": ".py",
   "mimetype": "text/x-python",
   "name": "python",
   "nbconvert_exporter": "python",
   "pygments_lexer": "ipython3",
   "version": "3.10.14"
  }
 },
 "nbformat": 4,
 "nbformat_minor": 2
}
